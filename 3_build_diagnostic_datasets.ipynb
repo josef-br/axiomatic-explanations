{
 "cells": [
  {
   "attachments": {},
   "cell_type": "markdown",
   "metadata": {},
   "source": [
    "# Build Diagnostic Datasets\n",
    "\n",
    "Different implementations (here called 'probers') are used to create different diagnostic datasets. "
   ]
  },
  {
   "cell_type": "code",
   "execution_count": null,
   "metadata": {},
   "outputs": [],
   "source": [
    "from src import get_data, dataset, diagnostic, util, \\\n",
    "    measure_and_match as mmp, \\\n",
    "    text_manipulation as tmp, \\\n",
    "    dataset_transfer as dtp\n",
    "\n",
    "from typing import List\n",
    "import logging\n",
    "logger = logging.getLogger()\n",
    "logger.setLevel(logging.INFO)"
   ]
  },
  {
   "cell_type": "code",
   "execution_count": null,
   "metadata": {},
   "outputs": [],
   "source": [
    "def create_diagnostic_data(dataobj: get_data.Data, force_overwrite=False, field_name='text_stopped'):\n",
    "    l_index = dataobj.get_lucene_index()\n",
    "\n",
    "    probers: List[diagnostic.Prober] = [\n",
    "        # MMPs\n",
    "        mmp.ConstVarProber('booltf', index=l_index, var=mmp.BoolTf, const=[mmp.Len], const_epsilons=[.1], field_name=field_name),\n",
    "        mmp.ConstVarProber('tf', index=l_index, var=mmp.Tf, const=[mmp.Len, mmp.BoolTf], const_epsilons=[.1, 0], field_name=field_name),\n",
    "        mmp.ConstVarProber('idf', index=l_index, var=mmp.Idf, const=[mmp.Len, mmp.SumTf], const_epsilons=[.1, 0], field_name=field_name),\n",
    "        mmp.ConstVarProber('len', index=l_index, var=mmp.Len, const=[mmp.Tf], const_epsilons=[.1], field_name=field_name),        \n",
    "\n",
    "        mmp.ConstVarProber('proximity', index=l_index, var=mmp.Proximity, const=[mmp.BoolTf, mmp.Len], field_name=field_name),\n",
    "        mmp.ConstVarProber('ordering', index=l_index, var=mmp.QueryTermOrdering, const=[mmp.BoolTf, mmp.Len], field_name=field_name),\n",
    "\n",
    "        mmp.ConstVarProber('exact_match', index=l_index, var=mmp.ExactMatch, const=[mmp.Tf, mmp.Len], const_epsilons=[0, .1]),\n",
    "       \n",
    "        # TMPs\n",
    "        tmp.LemmatizationProber(dataobj.get_document_spacy()),\n",
    "        tmp.StopwordRemoveProber(stopword_list=util.stopwords()),\n",
    "        tmp.SpellErrorProber(l_index, max_samples_per_term=64),\n",
    "        \n",
    "        tmp.AbbreviationProber(dataobj.get_document_spacy()),\n",
    "\n",
    "        # DTPs\n",
    "        dtp.CQATextSuccintnessProber(dataobj)\n",
    "    ]\n",
    "\n",
    "    for qset_name in dataobj.list_qsets():\n",
    "        for prober in probers:\n",
    "            prober.build_diagnostic_dataset(dataobj, qset_name, force_overwrite, True)"
   ]
  },
  {
   "cell_type": "code",
   "execution_count": null,
   "metadata": {},
   "outputs": [],
   "source": [
    "for dataobj in get_data.CqaDupStackCollector().iter_datasets():\n",
    "    create_diagnostic_data(dataobj, False)"
   ]
  }
 ],
 "metadata": {
  "kernelspec": {
   "display_name": "venv",
   "language": "python",
   "name": "python3"
  },
  "language_info": {
   "codemirror_mode": {
    "name": "ipython",
    "version": 3
   },
   "file_extension": ".py",
   "mimetype": "text/x-python",
   "name": "python",
   "nbconvert_exporter": "python",
   "pygments_lexer": "ipython3",
   "version": "3.8.10"
  },
  "orig_nbformat": 4,
  "vscode": {
   "interpreter": {
    "hash": "fa462886735ef616b8e339215b723448b9e7228a6b5bc235ac71dea16133dfac"
   }
  }
 },
 "nbformat": 4,
 "nbformat_minor": 2
}
