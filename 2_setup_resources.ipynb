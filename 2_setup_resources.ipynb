{
 "cells": [
  {
   "attachments": {},
   "cell_type": "markdown",
   "metadata": {},
   "source": [
    "# Setup Resources\n",
    "- Load Downloaded Data\n",
    "- Build Faiss Index\n",
    "- Build Lucene Index\n",
    "- Build Querysets\n",
    "- Build Spacy Indices for Docset and Querysets\n",
    "- Create Rankings for Querysets"
   ]
  },
  {
   "cell_type": "code",
   "execution_count": null,
   "metadata": {},
   "outputs": [],
   "source": [
    "from src import get_data, dataset, faiss, lucene, spacy\n",
    "import pandas as pd\n",
    "import logging\n",
    "from pathlib import Path\n",
    "from sentence_transformers import SentenceTransformer\n",
    "\n",
    "pd.set_option('display.max_colwidth', None)\n",
    "\n",
    "logger = logging.getLogger()\n",
    "logger.setLevel(logging.DEBUG)"
   ]
  },
  {
   "cell_type": "code",
   "execution_count": null,
   "metadata": {},
   "outputs": [],
   "source": [
    "sbert_model_name = 'GPL/cqadupstack-msmarco-distilbert-gpl'\n",
    "spacy_model_name = 'resources/spacy_model'"
   ]
  },
  {
   "cell_type": "code",
   "execution_count": null,
   "metadata": {},
   "outputs": [],
   "source": [
    "def build_faiss(dataobj: get_data.CqaDupStackData):\n",
    "    docset = dataobj.get_docset()\n",
    "\n",
    "    index_path = dataobj.path / 'indices'\n",
    "    index_path.mkdir(exist_ok=True)\n",
    "    # faiss index\n",
    "    if not dataobj.has_faiss():\n",
    "        faiss.FaissIndexWrapper.build(docset, index_path, index_name='faiss', \n",
    "                                    docs_id_field=docset.id_field_name, docs_text_field=docset.default_text_field_name, \n",
    "                                    indexing_batch_size = 2 ** 10, faiss_bucket_size = 2 ** 8,\n",
    "                                    sbert_model_name=sbert_model_name, show_progress_bar=True)\n",
    "\n",
    "for data in get_data.CqaDupStackCollector().iter_datasets():\n",
    "    build_faiss(data)"
   ]
  },
  {
   "cell_type": "code",
   "execution_count": null,
   "metadata": {},
   "outputs": [],
   "source": [
    "def build_lucene(dataobj: get_data.CqaDupStackData):\n",
    "    docset = dataobj.get_docset()\n",
    "\n",
    "    index_path = dataobj.path / 'indices'\n",
    "    index_path.mkdir(exist_ok=True)\n",
    "    if not dataobj.has_lucene():\n",
    "        lucene.LuceneIndex.build(docset, index_path, 'lucene', lang='en', show_progress_bar=True)\n",
    "\n",
    "for data in get_data.CqaDupStackCollector().iter_datasets():\n",
    "    build_lucene(data)"
   ]
  },
  {
   "cell_type": "code",
   "execution_count": null,
   "metadata": {},
   "outputs": [],
   "source": [
    "def build_querysets(dataobj: get_data.CqaDupStackData):\n",
    "    # querysets\n",
    "    sbert_model = SentenceTransformer(sbert_model_name, cache_folder='__model_cache__')\n",
    "    Path(dataobj.path / 'queries').mkdir(exist_ok=True)\n",
    "    if 'verbose' not in dataobj.list_qsets():\n",
    "        queries_df = pd.read_csv(dataobj.path / 'queries.csv')\n",
    "        dataset.QuerySet.create_from_dataframe(dataobj.path/'queries', 'verbose', sbert_model, queries_df, 'query_id', 'text')\n",
    "    \n",
    "    if 'keyword' not in dataobj.list_qsets():\n",
    "        queries_df = pd.read_csv(dataobj.path / 'keyword_queries.csv')\n",
    "        dataset.QuerySet.create_from_dataframe(dataobj.path/'queries', 'keyword', sbert_model, queries_df, 'query_id', 'text')\n",
    "\n",
    "for data in get_data.CqaDupStackCollector().iter_datasets():\n",
    "    build_querysets(data)"
   ]
  },
  {
   "cell_type": "code",
   "execution_count": null,
   "metadata": {},
   "outputs": [],
   "source": [
    "def build_spacy(dataobj: get_data.CqaDupStackData):\n",
    "    docset_spacy_path = dataobj.path / 'indices/spacy'\n",
    "    if not docset_spacy_path.exists():\n",
    "        docset = dataobj.get_docset()\n",
    "        spacy.SpacyIndex.build(docset_spacy_path.parent, docset.iter_for_indexing(), docset.num_documents(), spacy_model_name)\n",
    "\n",
    "    for qset_name in dataobj.list_qsets():\n",
    "        qset_spacy_path = dataobj.path / f'queries/{qset_name}/spacy'\n",
    "        if not qset_spacy_path.exists():\n",
    "            qset = dataobj.get_queryset(qset_name)\n",
    "            spacy.SpacyIndex.build(qset_spacy_path.parent, qset.iter_queries(), qset.num_queries(), spacy_model_name)\n",
    "\n",
    "for data in get_data.CqaDupStackCollector().iter_datasets():\n",
    "    build_spacy(data)"
   ]
  },
  {
   "cell_type": "code",
   "execution_count": null,
   "metadata": {},
   "outputs": [],
   "source": [
    "def build_rankings(dataobj: get_data.CqaDupStackData, k=10):\n",
    "    f_idx, l_idx = None, None\n",
    "    r_path = dataobj.path / 'rankings'\n",
    "    r_path.mkdir(exist_ok=True)\n",
    "    for qset_name in dataobj.list_qsets():\n",
    "        for ranking_model in ['neural', 'bm25']:        \n",
    "            rset_name = f'{ranking_model}_{qset_name}.csv'\n",
    "            if rset_name not in dataobj.list_rankingsets():\n",
    "                if ranking_model == 'neural':\n",
    "                    f_idx = f_idx or dataobj.get_faiss_index()\n",
    "                    f_idx.search(dataobj.get_queryset(qset_name), k=k).saved(r_path / rset_name)\n",
    "                else:\n",
    "                    l_idx = l_idx or dataobj.get_lucene_index()\n",
    "                    l_idx.search_bm25_batch(dataobj.get_queryset(qset_name), k=k).saved(r_path / rset_name)\n",
    "\n",
    "for data in get_data.CqaDupStackCollector().iter_datasets():\n",
    "    build_rankings(data)"
   ]
  },
  {
   "cell_type": "code",
   "execution_count": null,
   "metadata": {},
   "outputs": [],
   "source": []
  }
 ],
 "metadata": {
  "kernelspec": {
   "display_name": "venv",
   "language": "python",
   "name": "python3"
  },
  "language_info": {
   "codemirror_mode": {
    "name": "ipython",
    "version": 3
   },
   "file_extension": ".py",
   "mimetype": "text/x-python",
   "name": "python",
   "nbconvert_exporter": "python",
   "pygments_lexer": "ipython3",
   "version": "3.8.10"
  },
  "orig_nbformat": 4,
  "vscode": {
   "interpreter": {
    "hash": "fa462886735ef616b8e339215b723448b9e7228a6b5bc235ac71dea16133dfac"
   }
  }
 },
 "nbformat": 4,
 "nbformat_minor": 2
}
