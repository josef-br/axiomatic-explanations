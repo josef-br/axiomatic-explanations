{
 "cells": [
  {
   "attachments": {},
   "cell_type": "markdown",
   "metadata": {},
   "source": [
    "# Download Data\n",
    "\n",
    "- Use `ir_datasets` to download a document corpus and a set of sample queries for the forums `android` and `gaming` form the `CQADupStack`.\n",
    "- Load the model `GPL/cqadupstack-msmarco-distilbert-gpl` and filter documents that are too large to be entirely processed with it.\n",
    "- Create keyword queries by reducing the original queries.\n",
    "- Create abbreviation pairs from WordNet and augment the spaCy pipeline such that it is able to recognize them."
   ]
  },
  {
   "cell_type": "code",
   "execution_count": null,
   "metadata": {},
   "outputs": [],
   "source": [
    "import ir_datasets\n",
    "import pandas as pd\n",
    "from pathlib import Path\n",
    "import logging\n",
    "from src import util\n",
    "from transformers import AutoTokenizer\n",
    "from tqdm.autonotebook import tqdm\n",
    "import spacy\n",
    "tqdm.pandas()\n",
    "\n",
    "pd.set_option('display.max_colwidth', None)\n",
    "\n",
    "logger = logging.getLogger()\n",
    "logger.setLevel(logging.DEBUG)"
   ]
  },
  {
   "cell_type": "code",
   "execution_count": null,
   "metadata": {},
   "outputs": [],
   "source": [
    "# these are all available datasets; we only need the ones that do not involve programming\n",
    "datasets = ['beir/cqadupstack/android', 'beir/cqadupstack/gaming']\n",
    "sbert_model_name = 'GPL/cqadupstack-msmarco-distilbert-gpl'\n",
    "tokenizer = AutoTokenizer.from_pretrained(sbert_model_name, cache_dir='__model_cache__')\n",
    "max_text_len = min(tokenizer.max_model_input_sizes.values()) - 2  # account for [CLS] and [SEP]"
   ]
  },
  {
   "cell_type": "code",
   "execution_count": null,
   "metadata": {},
   "outputs": [],
   "source": [
    "base_path = Path('data/cqadupstack')\n",
    "base_path.mkdir(exist_ok=True, parents=True)\n",
    "def download_dataset(name: str):\n",
    "    dset_name = name.split('/')[-1]\n",
    "    dset_path = base_path / dset_name\n",
    "    dset_path.mkdir(exist_ok=True)\n",
    "\n",
    "    dataset_api = ir_datasets.load(name)\n",
    "\n",
    "    # queries are <qid, text, tags>\n",
    "    queries_df = pd.DataFrame.from_records(dataset_api.queries_iter(), columns=ir_datasets.datasets.beir.BeirCqaQuery._fields)\n",
    "    queries_df = queries_df[queries_df.text.progress_apply(lambda text: len(tokenizer.tokenize(text)) <= max_text_len)]\n",
    "    queries_df.to_csv(dset_path / 'queries.csv', index=False)\n",
    "\n",
    "    # also reduce the queries to keyword queries\n",
    "    util.reduce_to_keyword_queries(queries_df).to_csv(dset_path / 'keyword_queries.csv', index=False)\n",
    "\n",
    "    # docs are <did, text, title, tags>\n",
    "    # We want both the title and the body as individual documents\n",
    "    docs_df = pd.DataFrame.from_records(dataset_api.docs_iter(), columns=ir_datasets.datasets.beir.BeirCqaDoc._fields)\n",
    "    docs_df = docs_df.melt(id_vars=['doc_id', 'tags'], value_vars=['text', 'title']).sample(frac=1, random_state=42)\n",
    "    docs_df['doc_id'] = docs_df.apply(lambda row: f'{row.doc_id}{\"b\" if row.variable == \"text\" else \"t\"}', axis=1)\n",
    "    docs_df = docs_df[docs_df['value'].progress_apply(lambda text: len(tokenizer.tokenize(text)) <= max_text_len)]\n",
    "    docs_df.to_csv(dset_path / 'documents.csv', index=False)\n",
    "\n",
    "for dset in datasets:\n",
    "    download_dataset(dset)\n"
   ]
  },
  {
   "cell_type": "code",
   "execution_count": null,
   "metadata": {},
   "outputs": [],
   "source": [
    "abbreviations_df = util.build_abbreviation_dataframe_from_wordnet()\n",
    "abbreviations_df.to_csv('resources/abbreviations.csv')\n",
    "spacy_model_name = 'en_core_web_sm'\n",
    "\n",
    "nlp = spacy.load(spacy_model_name)\n",
    "nlp.remove_pipe('ner')\n",
    "patterns = util.abbreviation_df_to_spacy_patterns(abbreviations_df, nlp)\n",
    "nlp.add_pipe('entity_ruler')\n",
    "nlp.get_pipe('entity_ruler').add_patterns(patterns)\n",
    "nlp.to_disk('resources/spacy_model')"
   ]
  },
  {
   "cell_type": "code",
   "execution_count": null,
   "metadata": {},
   "outputs": [],
   "source": []
  }
 ],
 "metadata": {
  "kernelspec": {
   "display_name": "venv",
   "language": "python",
   "name": "python3"
  },
  "language_info": {
   "codemirror_mode": {
    "name": "ipython",
    "version": 3
   },
   "file_extension": ".py",
   "mimetype": "text/x-python",
   "name": "python",
   "nbconvert_exporter": "python",
   "pygments_lexer": "ipython3",
   "version": "3.8.10"
  },
  "orig_nbformat": 4
 },
 "nbformat": 4,
 "nbformat_minor": 2
}
